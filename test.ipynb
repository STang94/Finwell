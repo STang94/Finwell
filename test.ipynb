{
 "cells": [
  {
   "cell_type": "code",
   "execution_count": 3,
   "metadata": {},
   "outputs": [
    {
     "name": "stdout",
     "output_type": "stream",
     "text": [
      "doing job\n"
     ]
    },
    {
     "data": {
      "text/html": [
       "<div>\n",
       "<style scoped>\n",
       "    .dataframe tbody tr th:only-of-type {\n",
       "        vertical-align: middle;\n",
       "    }\n",
       "\n",
       "    .dataframe tbody tr th {\n",
       "        vertical-align: top;\n",
       "    }\n",
       "\n",
       "    .dataframe thead th {\n",
       "        text-align: right;\n",
       "    }\n",
       "</style>\n",
       "<table border=\"1\" class=\"dataframe\">\n",
       "  <thead>\n",
       "    <tr style=\"text-align: right;\">\n",
       "      <th></th>\n",
       "      <th>timestamp</th>\n",
       "      <th>x1</th>\n",
       "      <th>y1</th>\n",
       "      <th>x2</th>\n",
       "      <th>y2</th>\n",
       "      <th>score</th>\n",
       "      <th>class</th>\n",
       "      <th>x</th>\n",
       "      <th>y</th>\n",
       "      <th>w</th>\n",
       "      <th>h</th>\n",
       "    </tr>\n",
       "  </thead>\n",
       "  <tbody>\n",
       "    <tr>\n",
       "      <th>0</th>\n",
       "      <td>2024-02-01 16:44:19.553899</td>\n",
       "      <td>94.933685</td>\n",
       "      <td>132.086365</td>\n",
       "      <td>194.737762</td>\n",
       "      <td>223.593658</td>\n",
       "      <td>0.789632</td>\n",
       "      <td>goldfish</td>\n",
       "      <td>0.113153</td>\n",
       "      <td>0.185250</td>\n",
       "      <td>0.077972</td>\n",
       "      <td>0.095320</td>\n",
       "    </tr>\n",
       "    <tr>\n",
       "      <th>1</th>\n",
       "      <td>2024-02-01 16:44:20.657760</td>\n",
       "      <td>95.265366</td>\n",
       "      <td>130.684601</td>\n",
       "      <td>196.366318</td>\n",
       "      <td>225.822479</td>\n",
       "      <td>0.832798</td>\n",
       "      <td>goldfish</td>\n",
       "      <td>0.113919</td>\n",
       "      <td>0.185681</td>\n",
       "      <td>0.078985</td>\n",
       "      <td>0.099102</td>\n",
       "    </tr>\n",
       "    <tr>\n",
       "      <th>2</th>\n",
       "      <td>2024-02-01 16:44:21.778035</td>\n",
       "      <td>96.827110</td>\n",
       "      <td>126.959656</td>\n",
       "      <td>195.030670</td>\n",
       "      <td>228.109375</td>\n",
       "      <td>0.796487</td>\n",
       "      <td>goldfish</td>\n",
       "      <td>0.114007</td>\n",
       "      <td>0.184932</td>\n",
       "      <td>0.076722</td>\n",
       "      <td>0.105364</td>\n",
       "    </tr>\n",
       "    <tr>\n",
       "      <th>3</th>\n",
       "      <td>2024-02-01 16:44:23.170660</td>\n",
       "      <td>588.770630</td>\n",
       "      <td>10.304977</td>\n",
       "      <td>640.000000</td>\n",
       "      <td>94.865738</td>\n",
       "      <td>0.546307</td>\n",
       "      <td>goldfish</td>\n",
       "      <td>0.479989</td>\n",
       "      <td>0.054776</td>\n",
       "      <td>0.040023</td>\n",
       "      <td>0.088084</td>\n",
       "    </tr>\n",
       "    <tr>\n",
       "      <th>4</th>\n",
       "      <td>2024-02-01 16:44:24.258731</td>\n",
       "      <td>144.089874</td>\n",
       "      <td>93.359245</td>\n",
       "      <td>265.570221</td>\n",
       "      <td>196.924194</td>\n",
       "      <td>0.626299</td>\n",
       "      <td>goldfish</td>\n",
       "      <td>0.160023</td>\n",
       "      <td>0.151189</td>\n",
       "      <td>0.094907</td>\n",
       "      <td>0.107880</td>\n",
       "    </tr>\n",
       "    <tr>\n",
       "      <th>...</th>\n",
       "      <td>...</td>\n",
       "      <td>...</td>\n",
       "      <td>...</td>\n",
       "      <td>...</td>\n",
       "      <td>...</td>\n",
       "      <td>...</td>\n",
       "      <td>...</td>\n",
       "      <td>...</td>\n",
       "      <td>...</td>\n",
       "      <td>...</td>\n",
       "      <td>...</td>\n",
       "    </tr>\n",
       "    <tr>\n",
       "      <th>1885</th>\n",
       "      <td>2024-02-01 17:35:14.930497</td>\n",
       "      <td>112.527245</td>\n",
       "      <td>175.033112</td>\n",
       "      <td>202.444000</td>\n",
       "      <td>258.053741</td>\n",
       "      <td>0.911787</td>\n",
       "      <td>goldfish</td>\n",
       "      <td>0.123036</td>\n",
       "      <td>0.225566</td>\n",
       "      <td>0.070247</td>\n",
       "      <td>0.086480</td>\n",
       "    </tr>\n",
       "    <tr>\n",
       "      <th>1886</th>\n",
       "      <td>2024-02-01 17:35:16.088682</td>\n",
       "      <td>113.303993</td>\n",
       "      <td>176.047516</td>\n",
       "      <td>202.652130</td>\n",
       "      <td>258.590088</td>\n",
       "      <td>0.930018</td>\n",
       "      <td>goldfish</td>\n",
       "      <td>0.123420</td>\n",
       "      <td>0.226374</td>\n",
       "      <td>0.069803</td>\n",
       "      <td>0.085982</td>\n",
       "    </tr>\n",
       "    <tr>\n",
       "      <th>1887</th>\n",
       "      <td>2024-02-01 17:35:17.192355</td>\n",
       "      <td>112.353584</td>\n",
       "      <td>176.813507</td>\n",
       "      <td>200.996460</td>\n",
       "      <td>258.980927</td>\n",
       "      <td>0.911322</td>\n",
       "      <td>goldfish</td>\n",
       "      <td>0.122402</td>\n",
       "      <td>0.226976</td>\n",
       "      <td>0.069252</td>\n",
       "      <td>0.085591</td>\n",
       "    </tr>\n",
       "    <tr>\n",
       "      <th>1888</th>\n",
       "      <td>2024-02-01 17:35:18.300208</td>\n",
       "      <td>112.445862</td>\n",
       "      <td>176.674469</td>\n",
       "      <td>201.738434</td>\n",
       "      <td>259.403748</td>\n",
       "      <td>0.927356</td>\n",
       "      <td>goldfish</td>\n",
       "      <td>0.122728</td>\n",
       "      <td>0.227124</td>\n",
       "      <td>0.069760</td>\n",
       "      <td>0.086176</td>\n",
       "    </tr>\n",
       "    <tr>\n",
       "      <th>1889</th>\n",
       "      <td>2024-02-01 17:35:19.341282</td>\n",
       "      <td>110.549561</td>\n",
       "      <td>176.161438</td>\n",
       "      <td>201.203766</td>\n",
       "      <td>259.781067</td>\n",
       "      <td>0.919934</td>\n",
       "      <td>goldfish</td>\n",
       "      <td>0.121779</td>\n",
       "      <td>0.227053</td>\n",
       "      <td>0.070824</td>\n",
       "      <td>0.087104</td>\n",
       "    </tr>\n",
       "  </tbody>\n",
       "</table>\n",
       "<p>1890 rows × 11 columns</p>\n",
       "</div>"
      ],
      "text/plain": [
       "                       timestamp          x1          y1          x2  \\\n",
       "0     2024-02-01 16:44:19.553899   94.933685  132.086365  194.737762   \n",
       "1     2024-02-01 16:44:20.657760   95.265366  130.684601  196.366318   \n",
       "2     2024-02-01 16:44:21.778035   96.827110  126.959656  195.030670   \n",
       "3     2024-02-01 16:44:23.170660  588.770630   10.304977  640.000000   \n",
       "4     2024-02-01 16:44:24.258731  144.089874   93.359245  265.570221   \n",
       "...                          ...         ...         ...         ...   \n",
       "1885  2024-02-01 17:35:14.930497  112.527245  175.033112  202.444000   \n",
       "1886  2024-02-01 17:35:16.088682  113.303993  176.047516  202.652130   \n",
       "1887  2024-02-01 17:35:17.192355  112.353584  176.813507  200.996460   \n",
       "1888  2024-02-01 17:35:18.300208  112.445862  176.674469  201.738434   \n",
       "1889  2024-02-01 17:35:19.341282  110.549561  176.161438  201.203766   \n",
       "\n",
       "              y2     score     class         x         y         w         h  \n",
       "0     223.593658  0.789632  goldfish  0.113153  0.185250  0.077972  0.095320  \n",
       "1     225.822479  0.832798  goldfish  0.113919  0.185681  0.078985  0.099102  \n",
       "2     228.109375  0.796487  goldfish  0.114007  0.184932  0.076722  0.105364  \n",
       "3      94.865738  0.546307  goldfish  0.479989  0.054776  0.040023  0.088084  \n",
       "4     196.924194  0.626299  goldfish  0.160023  0.151189  0.094907  0.107880  \n",
       "...          ...       ...       ...       ...       ...       ...       ...  \n",
       "1885  258.053741  0.911787  goldfish  0.123036  0.225566  0.070247  0.086480  \n",
       "1886  258.590088  0.930018  goldfish  0.123420  0.226374  0.069803  0.085982  \n",
       "1887  258.980927  0.911322  goldfish  0.122402  0.226976  0.069252  0.085591  \n",
       "1888  259.403748  0.927356  goldfish  0.122728  0.227124  0.069760  0.086176  \n",
       "1889  259.781067  0.919934  goldfish  0.121779  0.227053  0.070824  0.087104  \n",
       "\n",
       "[1890 rows x 11 columns]"
      ]
     },
     "execution_count": 3,
     "metadata": {},
     "output_type": "execute_result"
    }
   ],
   "source": [
    "import pandas as pd\n",
    "import math\n",
    "from schedule import every, repeat, run_pending\n",
    "import time\n",
    "import time\n",
    "from datetime import datetime, timedelta\n",
    "from sms import send_sms\n",
    "\n",
    "def convert_to_yolo_format(x1, y1, x2, y2, image_width, image_height):\n",
    "    # Calculate center coordinates\n",
    "    x = (x1 + x2) / 2\n",
    "    y = (y1 + y2) / 2\n",
    "    \n",
    "    # Calculate width and height\n",
    "    w = x2 - x1\n",
    "    h = y2 - y1\n",
    "    \n",
    "    # Normalize coordinates and dimensions\n",
    "    x /= image_width\n",
    "    y /= image_height\n",
    "    w /= image_width\n",
    "    h /= image_height\n",
    "    \n",
    "    return x, y, w, h\n",
    "print(\"doing job\")\n",
    "    # Read the CSV file into a DataFrame\n",
    "df = pd.read_csv('goldfish_positions2.csv')\n",
    "    # Convert bounding box coordinates to YOLO style\n",
    "\n",
    "df_yolo = df.apply(lambda row: pd.Series(convert_to_yolo_format(row['x1'], row['y1'], row['x2'], row['y2'], 1280, 960)), axis=1)\n",
    "\n",
    "\n",
    "# Rename the columns for clarity\n",
    "df_yolo.columns = ['x', 'y', 'w', 'h']\n",
    "\n",
    "# Concatenate the new DataFrame with the original DataFrame\n",
    "df = pd.concat([df, df_yolo], axis=1)\n",
    "df\n",
    "\n",
    "\n",
    "\n",
    "\n",
    "        \n",
    "\n",
    "\n",
    "\n"
   ]
  },
  {
   "cell_type": "code",
   "execution_count": 4,
   "metadata": {},
   "outputs": [],
   "source": [
    "# Convert 'timestamp' column to datetime format\n",
    "df['timestamp'] = pd.to_datetime(df['timestamp'])\n",
    "\n",
    "# Calculate the distance between consecutive points\n"
   ]
  },
  {
   "cell_type": "code",
   "execution_count": 8,
   "metadata": {},
   "outputs": [
    {
     "name": "stdout",
     "output_type": "stream",
     "text": [
      "<class 'pandas.core.frame.DataFrame'>\n",
      "RangeIndex: 1890 entries, 0 to 1889\n",
      "Data columns (total 11 columns):\n",
      " #   Column     Non-Null Count  Dtype         \n",
      "---  ------     --------------  -----         \n",
      " 0   timestamp  1890 non-null   datetime64[ns]\n",
      " 1   x1         1890 non-null   float64       \n",
      " 2   y1         1890 non-null   float64       \n",
      " 3   x2         1890 non-null   float64       \n",
      " 4   y2         1890 non-null   float64       \n",
      " 5   score      1890 non-null   float64       \n",
      " 6   class      1890 non-null   object        \n",
      " 7   x          1890 non-null   float64       \n",
      " 8   y          1890 non-null   float64       \n",
      " 9   w          1890 non-null   float64       \n",
      " 10  h          1890 non-null   float64       \n",
      "dtypes: datetime64[ns](1), float64(9), object(1)\n",
      "memory usage: 162.6+ KB\n"
     ]
    }
   ],
   "source": [
    "df.info()"
   ]
  },
  {
   "cell_type": "code",
   "execution_count": 10,
   "metadata": {},
   "outputs": [
    {
     "data": {
      "text/plain": [
       "0       0.113153\n",
       "1       0.113919\n",
       "2       0.114007\n",
       "3       0.479989\n",
       "4       0.160023\n",
       "          ...   \n",
       "1885    0.123036\n",
       "1886    0.123420\n",
       "1887    0.122402\n",
       "1888    0.122728\n",
       "1889    0.121779\n",
       "Name: x, Length: 1890, dtype: float64"
      ]
     },
     "execution_count": 10,
     "metadata": {},
     "output_type": "execute_result"
    }
   ],
   "source": [
    "df['x']"
   ]
  },
  {
   "cell_type": "code",
   "execution_count": 9,
   "metadata": {},
   "outputs": [
    {
     "data": {
      "text/plain": [
       "0            NaN\n",
       "1       0.113153\n",
       "2       0.113919\n",
       "3       0.114007\n",
       "4       0.479989\n",
       "          ...   \n",
       "1885    0.122749\n",
       "1886    0.123036\n",
       "1887    0.123420\n",
       "1888    0.122402\n",
       "1889    0.122728\n",
       "Name: x, Length: 1890, dtype: float64"
      ]
     },
     "execution_count": 9,
     "metadata": {},
     "output_type": "execute_result"
    }
   ],
   "source": [
    "df['x'].shift(1)"
   ]
  },
  {
   "cell_type": "code",
   "execution_count": 14,
   "metadata": {},
   "outputs": [],
   "source": [
    "import numpy as np\n",
    "df[\"x_lag\"] = df[\"x\"].shift(1)\n",
    "df[\"y_lag\"] = df[\"y\"].shift(1)\n",
    "\n",
    "\n",
    "distance= np.sqrt((df['x']-df[\"x_lag\"])**2+(df['y']-df[\"y_lag\"])**2)\n"
   ]
  },
  {
   "cell_type": "code",
   "execution_count": 16,
   "metadata": {},
   "outputs": [
    {
     "data": {
      "text/plain": [
       "0            NaN\n",
       "1       0.000879\n",
       "2       0.000754\n",
       "3       0.388437\n",
       "4       0.334175\n",
       "          ...   \n",
       "1885    0.000478\n",
       "1886    0.000895\n",
       "1887    0.001183\n",
       "1888    0.000358\n",
       "1889    0.000952\n",
       "Length: 1890, dtype: float64"
      ]
     },
     "execution_count": 16,
     "metadata": {},
     "output_type": "execute_result"
    }
   ],
   "source": [
    "distance"
   ]
  },
  {
   "cell_type": "code",
   "execution_count": 5,
   "metadata": {},
   "outputs": [
    {
     "ename": "TypeError",
     "evalue": "cannot convert the series to <class 'float'>",
     "output_type": "error",
     "traceback": [
      "\u001b[1;31m---------------------------------------------------------------------------\u001b[0m",
      "\u001b[1;31mTypeError\u001b[0m                                 Traceback (most recent call last)",
      "Cell \u001b[1;32mIn[5], line 1\u001b[0m\n\u001b[1;32m----> 1\u001b[0m df[\u001b[38;5;124m'\u001b[39m\u001b[38;5;124mdistance\u001b[39m\u001b[38;5;124m'\u001b[39m] \u001b[38;5;241m=\u001b[39m \u001b[43mdf\u001b[49m\u001b[38;5;241;43m.\u001b[39;49m\u001b[43mapply\u001b[49m\u001b[43m(\u001b[49m\u001b[38;5;28;43;01mlambda\u001b[39;49;00m\u001b[43m \u001b[49m\u001b[43mrow\u001b[49m\u001b[43m:\u001b[49m\u001b[43m \u001b[49m\u001b[43mmath\u001b[49m\u001b[38;5;241;43m.\u001b[39;49m\u001b[43msqrt\u001b[49m\u001b[43m(\u001b[49m\u001b[43m(\u001b[49m\u001b[43mrow\u001b[49m\u001b[43m[\u001b[49m\u001b[38;5;124;43m'\u001b[39;49m\u001b[38;5;124;43mx\u001b[39;49m\u001b[38;5;124;43m'\u001b[39;49m\u001b[43m]\u001b[49m\u001b[43m \u001b[49m\u001b[38;5;241;43m-\u001b[39;49m\u001b[43m \u001b[49m\u001b[43mdf\u001b[49m\u001b[43m[\u001b[49m\u001b[38;5;124;43m'\u001b[39;49m\u001b[38;5;124;43mx\u001b[39;49m\u001b[38;5;124;43m'\u001b[39;49m\u001b[43m]\u001b[49m\u001b[38;5;241;43m.\u001b[39;49m\u001b[43mshift\u001b[49m\u001b[43m(\u001b[49m\u001b[38;5;241;43m1\u001b[39;49m\u001b[43m)\u001b[49m\u001b[43m)\u001b[49m\u001b[38;5;241;43m*\u001b[39;49m\u001b[38;5;241;43m*\u001b[39;49m\u001b[38;5;241;43m2\u001b[39;49m\u001b[43m \u001b[49m\u001b[38;5;241;43m+\u001b[39;49m\u001b[43m \u001b[49m\u001b[43m(\u001b[49m\u001b[43mrow\u001b[49m\u001b[43m[\u001b[49m\u001b[38;5;124;43m'\u001b[39;49m\u001b[38;5;124;43my\u001b[39;49m\u001b[38;5;124;43m'\u001b[39;49m\u001b[43m]\u001b[49m\u001b[43m \u001b[49m\u001b[38;5;241;43m-\u001b[39;49m\u001b[43m \u001b[49m\u001b[43mdf\u001b[49m\u001b[43m[\u001b[49m\u001b[38;5;124;43m'\u001b[39;49m\u001b[38;5;124;43my\u001b[39;49m\u001b[38;5;124;43m'\u001b[39;49m\u001b[43m]\u001b[49m\u001b[38;5;241;43m.\u001b[39;49m\u001b[43mshift\u001b[49m\u001b[43m(\u001b[49m\u001b[38;5;241;43m1\u001b[39;49m\u001b[43m)\u001b[49m\u001b[43m)\u001b[49m\u001b[38;5;241;43m*\u001b[39;49m\u001b[38;5;241;43m*\u001b[39;49m\u001b[38;5;241;43m2\u001b[39;49m\u001b[43m)\u001b[49m\u001b[43m,\u001b[49m\u001b[43m \u001b[49m\u001b[43maxis\u001b[49m\u001b[38;5;241;43m=\u001b[39;49m\u001b[38;5;241;43m1\u001b[39;49m\u001b[43m)\u001b[49m\n\u001b[0;32m      2\u001b[0m mean_dist \u001b[38;5;241m=\u001b[39m df[\u001b[38;5;124m'\u001b[39m\u001b[38;5;124mdistance\u001b[39m\u001b[38;5;124m'\u001b[39m]\u001b[38;5;241m.\u001b[39mmean()\n\u001b[0;32m      4\u001b[0m \u001b[38;5;66;03m# Get the current time\u001b[39;00m\n",
      "File \u001b[1;32mc:\\Users\\tangs\\anaconda3\\envs\\poisson_project\\Lib\\site-packages\\pandas\\core\\frame.py:10347\u001b[0m, in \u001b[0;36mDataFrame.apply\u001b[1;34m(self, func, axis, raw, result_type, args, by_row, engine, engine_kwargs, **kwargs)\u001b[0m\n\u001b[0;32m  10333\u001b[0m \u001b[38;5;28;01mfrom\u001b[39;00m \u001b[38;5;21;01mpandas\u001b[39;00m\u001b[38;5;21;01m.\u001b[39;00m\u001b[38;5;21;01mcore\u001b[39;00m\u001b[38;5;21;01m.\u001b[39;00m\u001b[38;5;21;01mapply\u001b[39;00m \u001b[38;5;28;01mimport\u001b[39;00m frame_apply\n\u001b[0;32m  10335\u001b[0m op \u001b[38;5;241m=\u001b[39m frame_apply(\n\u001b[0;32m  10336\u001b[0m     \u001b[38;5;28mself\u001b[39m,\n\u001b[0;32m  10337\u001b[0m     func\u001b[38;5;241m=\u001b[39mfunc,\n\u001b[1;32m   (...)\u001b[0m\n\u001b[0;32m  10345\u001b[0m     kwargs\u001b[38;5;241m=\u001b[39mkwargs,\n\u001b[0;32m  10346\u001b[0m )\n\u001b[1;32m> 10347\u001b[0m \u001b[38;5;28;01mreturn\u001b[39;00m \u001b[43mop\u001b[49m\u001b[38;5;241;43m.\u001b[39;49m\u001b[43mapply\u001b[49m\u001b[43m(\u001b[49m\u001b[43m)\u001b[49m\u001b[38;5;241m.\u001b[39m__finalize__(\u001b[38;5;28mself\u001b[39m, method\u001b[38;5;241m=\u001b[39m\u001b[38;5;124m\"\u001b[39m\u001b[38;5;124mapply\u001b[39m\u001b[38;5;124m\"\u001b[39m)\n",
      "File \u001b[1;32mc:\\Users\\tangs\\anaconda3\\envs\\poisson_project\\Lib\\site-packages\\pandas\\core\\apply.py:916\u001b[0m, in \u001b[0;36mFrameApply.apply\u001b[1;34m(self)\u001b[0m\n\u001b[0;32m    913\u001b[0m \u001b[38;5;28;01melif\u001b[39;00m \u001b[38;5;28mself\u001b[39m\u001b[38;5;241m.\u001b[39mraw:\n\u001b[0;32m    914\u001b[0m     \u001b[38;5;28;01mreturn\u001b[39;00m \u001b[38;5;28mself\u001b[39m\u001b[38;5;241m.\u001b[39mapply_raw(engine\u001b[38;5;241m=\u001b[39m\u001b[38;5;28mself\u001b[39m\u001b[38;5;241m.\u001b[39mengine, engine_kwargs\u001b[38;5;241m=\u001b[39m\u001b[38;5;28mself\u001b[39m\u001b[38;5;241m.\u001b[39mengine_kwargs)\n\u001b[1;32m--> 916\u001b[0m \u001b[38;5;28;01mreturn\u001b[39;00m \u001b[38;5;28;43mself\u001b[39;49m\u001b[38;5;241;43m.\u001b[39;49m\u001b[43mapply_standard\u001b[49m\u001b[43m(\u001b[49m\u001b[43m)\u001b[49m\n",
      "File \u001b[1;32mc:\\Users\\tangs\\anaconda3\\envs\\poisson_project\\Lib\\site-packages\\pandas\\core\\apply.py:1063\u001b[0m, in \u001b[0;36mFrameApply.apply_standard\u001b[1;34m(self)\u001b[0m\n\u001b[0;32m   1061\u001b[0m \u001b[38;5;28;01mdef\u001b[39;00m \u001b[38;5;21mapply_standard\u001b[39m(\u001b[38;5;28mself\u001b[39m):\n\u001b[0;32m   1062\u001b[0m     \u001b[38;5;28;01mif\u001b[39;00m \u001b[38;5;28mself\u001b[39m\u001b[38;5;241m.\u001b[39mengine \u001b[38;5;241m==\u001b[39m \u001b[38;5;124m\"\u001b[39m\u001b[38;5;124mpython\u001b[39m\u001b[38;5;124m\"\u001b[39m:\n\u001b[1;32m-> 1063\u001b[0m         results, res_index \u001b[38;5;241m=\u001b[39m \u001b[38;5;28;43mself\u001b[39;49m\u001b[38;5;241;43m.\u001b[39;49m\u001b[43mapply_series_generator\u001b[49m\u001b[43m(\u001b[49m\u001b[43m)\u001b[49m\n\u001b[0;32m   1064\u001b[0m     \u001b[38;5;28;01melse\u001b[39;00m:\n\u001b[0;32m   1065\u001b[0m         results, res_index \u001b[38;5;241m=\u001b[39m \u001b[38;5;28mself\u001b[39m\u001b[38;5;241m.\u001b[39mapply_series_numba()\n",
      "File \u001b[1;32mc:\\Users\\tangs\\anaconda3\\envs\\poisson_project\\Lib\\site-packages\\pandas\\core\\apply.py:1081\u001b[0m, in \u001b[0;36mFrameApply.apply_series_generator\u001b[1;34m(self)\u001b[0m\n\u001b[0;32m   1078\u001b[0m \u001b[38;5;28;01mwith\u001b[39;00m option_context(\u001b[38;5;124m\"\u001b[39m\u001b[38;5;124mmode.chained_assignment\u001b[39m\u001b[38;5;124m\"\u001b[39m, \u001b[38;5;28;01mNone\u001b[39;00m):\n\u001b[0;32m   1079\u001b[0m     \u001b[38;5;28;01mfor\u001b[39;00m i, v \u001b[38;5;129;01min\u001b[39;00m \u001b[38;5;28menumerate\u001b[39m(series_gen):\n\u001b[0;32m   1080\u001b[0m         \u001b[38;5;66;03m# ignore SettingWithCopy here in case the user mutates\u001b[39;00m\n\u001b[1;32m-> 1081\u001b[0m         results[i] \u001b[38;5;241m=\u001b[39m \u001b[38;5;28;43mself\u001b[39;49m\u001b[38;5;241;43m.\u001b[39;49m\u001b[43mfunc\u001b[49m\u001b[43m(\u001b[49m\u001b[43mv\u001b[49m\u001b[43m,\u001b[49m\u001b[43m \u001b[49m\u001b[38;5;241;43m*\u001b[39;49m\u001b[38;5;28;43mself\u001b[39;49m\u001b[38;5;241;43m.\u001b[39;49m\u001b[43margs\u001b[49m\u001b[43m,\u001b[49m\u001b[43m \u001b[49m\u001b[38;5;241;43m*\u001b[39;49m\u001b[38;5;241;43m*\u001b[39;49m\u001b[38;5;28;43mself\u001b[39;49m\u001b[38;5;241;43m.\u001b[39;49m\u001b[43mkwargs\u001b[49m\u001b[43m)\u001b[49m\n\u001b[0;32m   1082\u001b[0m         \u001b[38;5;28;01mif\u001b[39;00m \u001b[38;5;28misinstance\u001b[39m(results[i], ABCSeries):\n\u001b[0;32m   1083\u001b[0m             \u001b[38;5;66;03m# If we have a view on v, we need to make a copy because\u001b[39;00m\n\u001b[0;32m   1084\u001b[0m             \u001b[38;5;66;03m#  series_generator will swap out the underlying data\u001b[39;00m\n\u001b[0;32m   1085\u001b[0m             results[i] \u001b[38;5;241m=\u001b[39m results[i]\u001b[38;5;241m.\u001b[39mcopy(deep\u001b[38;5;241m=\u001b[39m\u001b[38;5;28;01mFalse\u001b[39;00m)\n",
      "Cell \u001b[1;32mIn[5], line 1\u001b[0m, in \u001b[0;36m<lambda>\u001b[1;34m(row)\u001b[0m\n\u001b[1;32m----> 1\u001b[0m df[\u001b[38;5;124m'\u001b[39m\u001b[38;5;124mdistance\u001b[39m\u001b[38;5;124m'\u001b[39m] \u001b[38;5;241m=\u001b[39m df\u001b[38;5;241m.\u001b[39mapply(\u001b[38;5;28;01mlambda\u001b[39;00m row: \u001b[43mmath\u001b[49m\u001b[38;5;241;43m.\u001b[39;49m\u001b[43msqrt\u001b[49m\u001b[43m(\u001b[49m\u001b[43m(\u001b[49m\u001b[43mrow\u001b[49m\u001b[43m[\u001b[49m\u001b[38;5;124;43m'\u001b[39;49m\u001b[38;5;124;43mx\u001b[39;49m\u001b[38;5;124;43m'\u001b[39;49m\u001b[43m]\u001b[49m\u001b[43m \u001b[49m\u001b[38;5;241;43m-\u001b[39;49m\u001b[43m \u001b[49m\u001b[43mdf\u001b[49m\u001b[43m[\u001b[49m\u001b[38;5;124;43m'\u001b[39;49m\u001b[38;5;124;43mx\u001b[39;49m\u001b[38;5;124;43m'\u001b[39;49m\u001b[43m]\u001b[49m\u001b[38;5;241;43m.\u001b[39;49m\u001b[43mshift\u001b[49m\u001b[43m(\u001b[49m\u001b[38;5;241;43m1\u001b[39;49m\u001b[43m)\u001b[49m\u001b[43m)\u001b[49m\u001b[38;5;241;43m*\u001b[39;49m\u001b[38;5;241;43m*\u001b[39;49m\u001b[38;5;241;43m2\u001b[39;49m\u001b[43m \u001b[49m\u001b[38;5;241;43m+\u001b[39;49m\u001b[43m \u001b[49m\u001b[43m(\u001b[49m\u001b[43mrow\u001b[49m\u001b[43m[\u001b[49m\u001b[38;5;124;43m'\u001b[39;49m\u001b[38;5;124;43my\u001b[39;49m\u001b[38;5;124;43m'\u001b[39;49m\u001b[43m]\u001b[49m\u001b[43m \u001b[49m\u001b[38;5;241;43m-\u001b[39;49m\u001b[43m \u001b[49m\u001b[43mdf\u001b[49m\u001b[43m[\u001b[49m\u001b[38;5;124;43m'\u001b[39;49m\u001b[38;5;124;43my\u001b[39;49m\u001b[38;5;124;43m'\u001b[39;49m\u001b[43m]\u001b[49m\u001b[38;5;241;43m.\u001b[39;49m\u001b[43mshift\u001b[49m\u001b[43m(\u001b[49m\u001b[38;5;241;43m1\u001b[39;49m\u001b[43m)\u001b[49m\u001b[43m)\u001b[49m\u001b[38;5;241;43m*\u001b[39;49m\u001b[38;5;241;43m*\u001b[39;49m\u001b[38;5;241;43m2\u001b[39;49m\u001b[43m)\u001b[49m, axis\u001b[38;5;241m=\u001b[39m\u001b[38;5;241m1\u001b[39m)\n\u001b[0;32m      2\u001b[0m mean_dist \u001b[38;5;241m=\u001b[39m df[\u001b[38;5;124m'\u001b[39m\u001b[38;5;124mdistance\u001b[39m\u001b[38;5;124m'\u001b[39m]\u001b[38;5;241m.\u001b[39mmean()\n\u001b[0;32m      4\u001b[0m \u001b[38;5;66;03m# Get the current time\u001b[39;00m\n",
      "File \u001b[1;32mc:\\Users\\tangs\\anaconda3\\envs\\poisson_project\\Lib\\site-packages\\pandas\\core\\series.py:247\u001b[0m, in \u001b[0;36m_coerce_method.<locals>.wrapper\u001b[1;34m(self)\u001b[0m\n\u001b[0;32m    239\u001b[0m     warnings\u001b[38;5;241m.\u001b[39mwarn(\n\u001b[0;32m    240\u001b[0m         \u001b[38;5;124mf\u001b[39m\u001b[38;5;124m\"\u001b[39m\u001b[38;5;124mCalling \u001b[39m\u001b[38;5;132;01m{\u001b[39;00mconverter\u001b[38;5;241m.\u001b[39m\u001b[38;5;18m__name__\u001b[39m\u001b[38;5;132;01m}\u001b[39;00m\u001b[38;5;124m on a single element Series is \u001b[39m\u001b[38;5;124m\"\u001b[39m\n\u001b[0;32m    241\u001b[0m         \u001b[38;5;124m\"\u001b[39m\u001b[38;5;124mdeprecated and will raise a TypeError in the future. \u001b[39m\u001b[38;5;124m\"\u001b[39m\n\u001b[1;32m   (...)\u001b[0m\n\u001b[0;32m    244\u001b[0m         stacklevel\u001b[38;5;241m=\u001b[39mfind_stack_level(),\n\u001b[0;32m    245\u001b[0m     )\n\u001b[0;32m    246\u001b[0m     \u001b[38;5;28;01mreturn\u001b[39;00m converter(\u001b[38;5;28mself\u001b[39m\u001b[38;5;241m.\u001b[39miloc[\u001b[38;5;241m0\u001b[39m])\n\u001b[1;32m--> 247\u001b[0m \u001b[38;5;28;01mraise\u001b[39;00m \u001b[38;5;167;01mTypeError\u001b[39;00m(\u001b[38;5;124mf\u001b[39m\u001b[38;5;124m\"\u001b[39m\u001b[38;5;124mcannot convert the series to \u001b[39m\u001b[38;5;132;01m{\u001b[39;00mconverter\u001b[38;5;132;01m}\u001b[39;00m\u001b[38;5;124m\"\u001b[39m)\n",
      "\u001b[1;31mTypeError\u001b[0m: cannot convert the series to <class 'float'>"
     ]
    }
   ],
   "source": [
    "\n",
    "mean_dist = df['distance'].mean()\n",
    "\n",
    "# Get the current time\n",
    "current_time = datetime.now()\n",
    "\n",
    "# Filter data from the past hour\n",
    "past_hour_data = df[df['timestamp'] > current_time - timedelta(hours=1)]\n",
    "\n",
    "# Calculate the mean distance for the past hour\n",
    "dist_past_hour = past_hour_data['distance'].mean()\n",
    "# Compare the mean distance of the past hour with the overall mean distance"
   ]
  },
  {
   "cell_type": "code",
   "execution_count": null,
   "metadata": {},
   "outputs": [],
   "source": [
    "    sort_y1=df.sort_values(\"y1\",ascending=True)[\"y1\"]\n",
    "    mean_hauteur=sort_y1.mean()\n",
    "    \n",
    "\n",
    "    bottom=mean_hauteur*0.3\n",
    "    # Add a new column to the DataFrame based on the condition\n",
    "    past_hour_data['is_below_bottom'] = (past_hour_data['y1'] + past_hour_data['y2']) / 2 < bottom\n",
    "\n",
    "    \n",
    "    # Display the DataFrame with the added column\n",
    "    true_count = past_hour_data['is_below_bottom'].sum()\n",
    "    print(dist_past_hour)\n",
    "    print(true_count)\n",
    "    if dist_past_hour < 10000:#mean_dist *0.3 :\n",
    "        #send_sms(\"Your fish is in bad condition\")\n",
    "        sleep_mode = True\n",
    "        print(\"distance verification\")\n",
    "    if true_count > 1:#len(past_hour_data)*0.5:\n",
    "        #send_sms(\"the fish is at the bottom for a long time\")\n",
    "        print(\"bottom verification\")\n",
    "    if sleep_mode :\n",
    "        time.sleep(100000)"
   ]
  },
  {
   "cell_type": "code",
   "execution_count": 17,
   "metadata": {},
   "outputs": [
    {
     "data": {
      "text/plain": [
       "67.10288925170899"
      ]
     },
     "execution_count": 17,
     "metadata": {},
     "output_type": "execute_result"
    }
   ],
   "source": [
    "hauteur_mean_1.iloc[2:12].mean()"
   ]
  },
  {
   "cell_type": "code",
   "execution_count": 18,
   "metadata": {},
   "outputs": [
    {
     "data": {
      "text/plain": [
       "126.83258361816407"
      ]
     },
     "execution_count": 18,
     "metadata": {},
     "output_type": "execute_result"
    }
   ],
   "source": [
    "hauteur_mean_2.iloc[2:12].mean()"
   ]
  },
  {
   "cell_type": "code",
   "execution_count": 28,
   "metadata": {},
   "outputs": [
    {
     "name": "stdout",
     "output_type": "stream",
     "text": [
      "                      timestamp          x1          y1          x2  \\\n",
      "0    2024-01-31 12:51:26.329014  236.313110    2.982536  349.453186   \n",
      "1    2024-01-31 12:51:28.958485  116.576157  265.301575  251.054245   \n",
      "2    2024-01-31 12:51:29.981496   91.635086  245.824722  196.740250   \n",
      "3    2024-01-31 12:51:31.018855   52.241882  185.532440  160.304535   \n",
      "4    2024-01-31 12:51:32.028476   86.993744  164.472992  180.061340   \n",
      "...                         ...         ...         ...         ...   \n",
      "1152 2024-01-31 13:41:03.253670   26.676453  211.736542   76.431236   \n",
      "1153 2024-01-31 13:41:04.263928   32.134171  194.452759   86.658073   \n",
      "1154 2024-01-31 13:41:09.271143   51.341309  204.382538  132.903519   \n",
      "1155 2024-01-31 13:41:13.640489   81.424133  195.694611  139.759338   \n",
      "1156 2024-01-31 13:41:14.665051   91.248260  189.333984  163.793503   \n",
      "\n",
      "              y2     score     class    distance  is_below_bottom  \n",
      "0      44.961021  0.517179  goldfish  120.676717             True  \n",
      "1     357.678650  0.537439  goldfish  163.149871            False  \n",
      "2     338.530273  0.816514  goldfish  140.147831            False  \n",
      "3     291.016449  0.644819  goldfish  151.011301            False  \n",
      "4     246.719940  0.566610  goldfish  124.202005            False  \n",
      "...          ...       ...       ...         ...              ...  \n",
      "1152  274.533722  0.527874  goldfish   80.118814            False  \n",
      "1153  275.227875  0.712766  goldfish   97.454991            False  \n",
      "1154  268.565765  0.574652  goldfish  103.787672            False  \n",
      "1155  246.479584  0.527134  goldfish   77.344099            False  \n",
      "1156  252.132538  0.698565  goldfish   95.950354            False  \n",
      "\n",
      "[1157 rows x 9 columns]\n"
     ]
    },
    {
     "ename": "",
     "evalue": "",
     "output_type": "error",
     "traceback": [
      "\u001b[1;31mThe Kernel crashed while executing code in the the current cell or a previous cell. Please review the code in the cell(s) to identify a possible cause of the failure. Click <a href='https://aka.ms/vscodeJupyterKernelCrash'>here</a> for more info. View Jupyter <a href='command:jupyter.viewOutput'>log</a> for further details."
     ]
    }
   ],
   "source": [
    "sort_y1=df.sort_values(\"y1\",ascending=True)[\"y1\"]\n",
    "sort_y2=df.sort_values(\"y2\",ascending=True)[\"y2\"]\n",
    "mean_y1=sort_y1.mean()\n",
    "mean_y2=sort_y2.mean()\n",
    "mean_hauteur=(mean_y1+mean_y2)/2\n",
    "\n",
    "bottom=mean_hauteur*0.6\n",
    "# Add a new column to the DataFrame based on the condition\n",
    "past_hour_data['is_below_bottom'] = (past_hour_data['y1'] + past_hour_data['y2']) / 2 < bottom\n",
    "\n",
    "# Display the DataFrame with the added column\n",
    "print(past_hour_data)"
   ]
  },
  {
   "cell_type": "code",
   "execution_count": 27,
   "metadata": {},
   "outputs": [
    {
     "name": "stdout",
     "output_type": "stream",
     "text": [
      "Number of True values: 748\n"
     ]
    }
   ],
   "source": [
    "true_count = past_hour_data['is_below_bottom'].sum()\n",
    "\n",
    "# Display the count\n",
    "print(f\"Number of True values: {true_count}\")"
   ]
  }
 ],
 "metadata": {
  "kernelspec": {
   "display_name": "peojet_poisson",
   "language": "python",
   "name": "python3"
  },
  "language_info": {
   "codemirror_mode": {
    "name": "ipython",
    "version": 3
   },
   "file_extension": ".py",
   "mimetype": "text/x-python",
   "name": "python",
   "nbconvert_exporter": "python",
   "pygments_lexer": "ipython3",
   "version": "3.11.7"
  }
 },
 "nbformat": 4,
 "nbformat_minor": 2
}
