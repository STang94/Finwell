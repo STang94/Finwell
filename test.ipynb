{
 "cells": [
  {
   "cell_type": "code",
   "execution_count": 14,
   "metadata": {},
   "outputs": [
    {
     "name": "stdout",
     "output_type": "stream",
     "text": [
      "93.83704273408479\n",
      "93.83704273408479\n",
      "Good condition\n"
     ]
    }
   ],
   "source": [
    "import pandas as pd\n",
    "import math\n",
    "from datetime import datetime, timedelta\n",
    "\n",
    "# Read the CSV file into a DataFrame\n",
    "df = pd.read_csv('goldfish_positions.csv')\n",
    "\n",
    "# Convert 'timestamp' column to datetime format\n",
    "df['timestamp'] = pd.to_datetime(df['timestamp'])\n",
    "\n",
    "# Calculate the distance between consecutive points\n",
    "df['distance'] = df.apply(lambda row: math.sqrt((row['x2'] - row['x1'])**2 + (row['y2'] - row['y1'])**2), axis=1)\n",
    "mean_dist = df['distance'].mean()\n",
    "\n",
    "# Get the current time\n",
    "current_time = datetime.now()\n",
    "\n",
    "# Filter data from the past hour\n",
    "past_hour_data = df[df['timestamp'] > current_time - timedelta(hours=1)]\n",
    "\n",
    "# Calculate the mean distance for the past hour\n",
    "dist_past_hour = past_hour_data['distance'].mean()\n",
    "print(mean_dist)\n",
    "print(dist_past_hour)\n",
    "# Compare the mean distance of the past hour with the overall mean distance\n",
    "if dist_past_hour > mean_dist * 0.6:\n",
    "    print(\"Good condition\")\n",
    "else:\n",
    "    print(\"Bad condition\")\n",
    "\n",
    "hauteur_mean_1=df.sort_values(\"y1\",ascending=True)[\"y1\"]\n",
    "hauteur_mean_2=df.sort_values(\"y2\",ascending=True)[\"y2\"]\n"
   ]
  },
  {
   "cell_type": "code",
   "execution_count": 17,
   "metadata": {},
   "outputs": [
    {
     "data": {
      "text/plain": [
       "67.10288925170899"
      ]
     },
     "execution_count": 17,
     "metadata": {},
     "output_type": "execute_result"
    }
   ],
   "source": [
    "hauteur_mean_1.iloc[2:12].mean()"
   ]
  },
  {
   "cell_type": "code",
   "execution_count": 18,
   "metadata": {},
   "outputs": [
    {
     "data": {
      "text/plain": [
       "126.83258361816407"
      ]
     },
     "execution_count": 18,
     "metadata": {},
     "output_type": "execute_result"
    }
   ],
   "source": [
    "hauteur_mean_2.iloc[2:12].mean()"
   ]
  },
  {
   "cell_type": "code",
   "execution_count": 28,
   "metadata": {},
   "outputs": [
    {
     "name": "stdout",
     "output_type": "stream",
     "text": [
      "                      timestamp          x1          y1          x2  \\\n",
      "0    2024-01-31 12:51:26.329014  236.313110    2.982536  349.453186   \n",
      "1    2024-01-31 12:51:28.958485  116.576157  265.301575  251.054245   \n",
      "2    2024-01-31 12:51:29.981496   91.635086  245.824722  196.740250   \n",
      "3    2024-01-31 12:51:31.018855   52.241882  185.532440  160.304535   \n",
      "4    2024-01-31 12:51:32.028476   86.993744  164.472992  180.061340   \n",
      "...                         ...         ...         ...         ...   \n",
      "1152 2024-01-31 13:41:03.253670   26.676453  211.736542   76.431236   \n",
      "1153 2024-01-31 13:41:04.263928   32.134171  194.452759   86.658073   \n",
      "1154 2024-01-31 13:41:09.271143   51.341309  204.382538  132.903519   \n",
      "1155 2024-01-31 13:41:13.640489   81.424133  195.694611  139.759338   \n",
      "1156 2024-01-31 13:41:14.665051   91.248260  189.333984  163.793503   \n",
      "\n",
      "              y2     score     class    distance  is_below_bottom  \n",
      "0      44.961021  0.517179  goldfish  120.676717             True  \n",
      "1     357.678650  0.537439  goldfish  163.149871            False  \n",
      "2     338.530273  0.816514  goldfish  140.147831            False  \n",
      "3     291.016449  0.644819  goldfish  151.011301            False  \n",
      "4     246.719940  0.566610  goldfish  124.202005            False  \n",
      "...          ...       ...       ...         ...              ...  \n",
      "1152  274.533722  0.527874  goldfish   80.118814            False  \n",
      "1153  275.227875  0.712766  goldfish   97.454991            False  \n",
      "1154  268.565765  0.574652  goldfish  103.787672            False  \n",
      "1155  246.479584  0.527134  goldfish   77.344099            False  \n",
      "1156  252.132538  0.698565  goldfish   95.950354            False  \n",
      "\n",
      "[1157 rows x 9 columns]\n"
     ]
    }
   ],
   "source": [
    "sort_y1=df.sort_values(\"y1\",ascending=True)[\"y1\"]\n",
    "sort_y2=df.sort_values(\"y2\",ascending=True)[\"y2\"]\n",
    "mean_y1=sort_y1.mean()\n",
    "mean_y2=sort_y2.mean()\n",
    "mean_hauteur=(mean_y1+mean_y2)/2\n",
    "\n",
    "bottom=mean_hauteur*0.6\n",
    "# Add a new column to the DataFrame based on the condition\n",
    "past_hour_data['is_below_bottom'] = (past_hour_data['y1'] + past_hour_data['y2']) / 2 < bottom\n",
    "\n",
    "# Display the DataFrame with the added column\n",
    "print(past_hour_data)"
   ]
  },
  {
   "cell_type": "code",
   "execution_count": 27,
   "metadata": {},
   "outputs": [
    {
     "name": "stdout",
     "output_type": "stream",
     "text": [
      "Number of True values: 748\n"
     ]
    }
   ],
   "source": [
    "true_count = past_hour_data['is_below_bottom'].sum()\n",
    "\n",
    "# Display the count\n",
    "print(f\"Number of True values: {true_count}\")"
   ]
  }
 ],
 "metadata": {
  "kernelspec": {
   "display_name": "peojet_poisson",
   "language": "python",
   "name": "python3"
  },
  "language_info": {
   "codemirror_mode": {
    "name": "ipython",
    "version": 3
   },
   "file_extension": ".py",
   "mimetype": "text/x-python",
   "name": "python",
   "nbconvert_exporter": "python",
   "pygments_lexer": "ipython3",
   "version": "3.11.7"
  }
 },
 "nbformat": 4,
 "nbformat_minor": 2
}
